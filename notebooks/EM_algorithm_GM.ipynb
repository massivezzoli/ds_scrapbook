{
 "cells": [
  {
   "cell_type": "markdown",
   "metadata": {},
   "source": [
    "# Implementing Expectation-Maximization algorithm for GMM"
   ]
  },
  {
   "cell_type": "markdown",
   "metadata": {},
   "source": [
    "Gaussian Mixture Model for soft clustering of the data. Work done for Coursera test. "
   ]
  },
  {
   "cell_type": "code",
   "execution_count": 1,
   "metadata": {
    "collapsed": true
   },
   "outputs": [],
   "source": [
    "import numpy as np\n",
    "from numpy.linalg import slogdet, det, solve\n",
    "import matplotlib.pyplot as plt\n",
    "import time\n",
    "from sklearn.datasets import make_classification\n",
    "from scipy.stats import multivariate_normal as mult_norm\n",
    "from scipy.stats import norm\n",
    "%matplotlib inline"
   ]
  },
  {
   "cell_type": "markdown",
   "metadata": {},
   "source": [
    "<b>Create Dataset:</b>\n"
   ]
  },
  {
   "cell_type": "code",
   "execution_count": 3,
   "metadata": {
    "collapsed": false
   },
   "outputs": [
    {
     "data": {
      "image/png": "[encoded data removed]",
      "text/plain": [
       "<matplotlib.figure.Figure at 0x1a06960ba8>"
      ]
     },
     "metadata": {},
     "output_type": "display_data"
    }
   ],
   "source": [
    "X1, Y1 = make_classification(n_features=2, n_redundant=0, n_informative=2,\n",
    "                             n_clusters_per_class=1, n_classes=3)\n",
    "plt.scatter(X1[:, 0], X1[:, 1], marker='o', c=Y1,\n",
    "            s=25, edgecolor='k');"
   ]
  },
  {
   "cell_type": "markdown",
   "metadata": {},
   "source": [
    "### Reminder"
   ]
  },
  {
   "cell_type": "markdown",
   "metadata": {},
   "source": [
    "Remember, that EM algorithm is a coordinate descent optimization of variational lower bound $\\mathcal{L}(\\theta, q) = \\int q(T) \\log\\frac{P(X, T|\\theta)}{q(T)}dT\\to \\max$.\n",
    "\n",
    "<b>E-step</b>:<br>\n",
    "$\\mathcal{L}(\\theta, q) \\to \\max\\limits_{q} \\Leftrightarrow \\mathcal{KL} [q(T) \\,\\|\\, p(T|X, \\theta)] \\to \\min \\limits_{q\\in Q} \\Rightarrow q(T) = p(T|X, \\theta)$<br>\n",
    "<b>M-step</b>:<br> \n",
    "$\\mathcal{L}(\\theta, q) \\to \\max\\limits_{\\theta} \\Leftrightarrow \\mathbb{E}_{q(T)}\\log p(X,T | \\theta) \\to \\max\\limits_{\\theta}$\n",
    "\n",
    "For GMM, $\\theta$ is a set of parameters that consists of mean vectors $\\mu_c$, covariance matrices $\\Sigma_c$ and priors $\\pi_c$ for each component.\n",
    "\n",
    "Latent variables $T$ are indices of components to which each data point is assigned. $T_i$ (cluster index for object $i$) is a binary vector with only one active bit in position corresponding to the true component. For example, if we have $C=3$ components and object $i$ lies in first component, $T_i = [1, 0, 0]$.\n",
    "\n",
    "The joint distribution can be written as follows: $p(T, X \\mid \\theta) =  \\prod\\limits_{i=1}^N p(T_i, X_i \\mid \\theta) = \\prod\\limits_{i=1}^N \\prod\\limits_{c=1}^C [\\pi_c \\mathcal{N}(X_i \\mid \\mu_c, \\Sigma_c)]^{T_{ic}}$."
   ]
  },
  {
   "cell_type": "markdown",
   "metadata": {},
   "source": [
    "### E-step\n",
    "In this step we need to estimate the posterior distribution over the latent variables with fixed values of parameters: $q(T) = p(T|X, \\theta)$. We will assume that $T_i$ (cluster index for object $i$) is a binary vector with only one '1' in position corresponding to the true component. To do so we need to compute $\\gamma_{ic} = P(T_{ic} = 1 \\mid X, \\theta)$. Note that $\\sum\\limits_{c=1}^C\\gamma_{ic}=1$.\n"
   ]
  },
  {
   "cell_type": "code",
   "execution_count": 4,
   "metadata": {
    "collapsed": true
   },
   "outputs": [],
   "source": [
    "def E_step(X, pi, mu, sigma):\n",
    "    \"\"\"\n",
    "    Performs E-step on GMM model\n",
    "    Each input is numpy array:\n",
    "    X: (N x d), data points\n",
    "    pi: (C), mixture component weights \n",
    "    mu: (C x d), mixture component means\n",
    "    sigma: (C x d x d), mixture component covariance matrices\n",
    "    \n",
    "    Returns:\n",
    "    gamma: (N x C), probabilities of clusters for objects\n",
    "    \"\"\"\n",
    "    N = X.shape[0] # number of objects\n",
    "    C = pi.shape[0] # number of clusters\n",
    "    d = mu.shape[1] # dimension of each object\n",
    "    gamma = np.zeros((N, C)) # distribution q(T)\n",
    "\n",
    "    ### Iterate over data points\n",
    "    for i in range(N):\n",
    "        temp_prob = [0] * C\n",
    "        temp_sum = 0\n",
    "        ### iterate over n_custers\n",
    "        for c in range(C):\n",
    "            # create multivariate normal with mu and sigma for current cluster\n",
    "            c_dist = mult_norm(mu[c],sigma[c])\n",
    "            # get pdf for current point and multiply for weight\n",
    "            temp_prob[c] = pi[c] * c_dist.pdf(X[i]) \n",
    "            temp_sum += temp_prob[c]\n",
    "        # get q(t) probabilities by normalizing the calculated values for their sum\n",
    "        gamma[i] = temp_prob / temp_sum\n",
    "    return gamma"
   ]
  },
  {
   "cell_type": "markdown",
   "metadata": {},
   "source": [
    "### M-step\n",
    "\n",
    "In M-step we need to maximize $\\mathbb{E}_{q(T)}\\log p(X,T | \\theta)$ with respect to $\\theta$ to find optimal values of $\\pi$, $\\mu$, $\\Sigma$. "
   ]
  },
  {
   "cell_type": "code",
   "execution_count": 5,
   "metadata": {
    "collapsed": true
   },
   "outputs": [],
   "source": [
    "def M_step(X, gamma):\n",
    "    \"\"\"\n",
    "    Performs M-step on GMM model\n",
    "    Each input is numpy array:\n",
    "    X: (N x d), data points\n",
    "    gamma: (N x C), distribution q(T)  \n",
    "    \n",
    "    Returns:\n",
    "    pi: (C)\n",
    "    mu: (C x d)\n",
    "    sigma: (C x d x d)\n",
    "    \"\"\"\n",
    "    N = X.shape[0] # number of objects\n",
    "    C = gamma.shape[1] # number of clusters\n",
    "    d = X.shape[1] # dimension of each object\n",
    "    # sum of gammas for each cluster, to be used as denominator\n",
    "    N_ks = np.sum(gamma, axis=0)\n",
    "    pi = np.zeros([C])\n",
    "    mu = np.zeros([C,2])\n",
    "    sigma = np.zeros([C,2,2])\n",
    "    for c in range(C):\n",
    "        #update pi\n",
    "        pi[c] = 1/N * N_ks[c]\n",
    "        #update mu\n",
    "        mu[c] = 1/N_ks[c]*np.dot(gamma[:,c].reshape(N,1).T, X)\n",
    "        # means\n",
    "        x_mu = np.matrix(X - mu[c])\n",
    "        #print(x_mu.shape)        \n",
    "        ## covariances\n",
    "        sigma[c] = np.array(1 / N_ks[c] * np.dot(np.multiply(x_mu.T,  gamma[:, c]), x_mu))   \n",
    "    return pi, mu, sigma"
   ]
  },
  {
   "cell_type": "raw",
   "metadata": {
    "collapsed": false
   },
   "source": [
    "gamma = E_step(X1, pi0, mu0, sigma0)\n",
    "pi, mu, sigma = M_step(X1, gamma)"
   ]
  },
  {
   "cell_type": "markdown",
   "metadata": {},
   "source": [
    "### Implement Loss function - Variational Lower Bound"
   ]
  },
  {
   "cell_type": "markdown",
   "metadata": {},
   "source": [
    "Variational Lower Bound function to track convergence. Stop EM iterations when $\\mathcal{L}$ saturates (should never decrease).\n",
    "\n",
    "$$\\mathcal{L} = \\sum_{n=1}^{N} \\sum_{k=1}^{K} \\mathbb{E}[z_{n, k}] (\\log \\pi_k + \\log \\mathcal{N}(x_n | \\mu_k, \\sigma_k)) - \\sum_{n=1}^{N} \\sum_{k=1}^{K} \\mathbb{E}[z_{n, k}] \\log \\mathbb{E}[z_{n, k}]$$"
   ]
  },
  {
   "cell_type": "code",
   "execution_count": 6,
   "metadata": {
    "collapsed": false
   },
   "outputs": [],
   "source": [
    "def compute_vlb(X, pi, mu, sigma, gamma):\n",
    "    \"\"\"\n",
    "    Each input is numpy array:\n",
    "    X: (N x d), data points\n",
    "    gamma: (N x C), distribution q(T)  \n",
    "    pi: (C)\n",
    "    mu: (C x d)\n",
    "    sigma: (C x d x d)\n",
    "    \n",
    "    Returns value of variational lower bound\n",
    "    \"\"\"\n",
    "    N = X.shape[0] # number of objects\n",
    "    C = gamma.shape[1] # number of clusters\n",
    "    d = X.shape[1] # dimension of each object\n",
    "    \n",
    "    loss = 0\n",
    "    for i in range(N):\n",
    "        i_loss = 0\n",
    "        i_loss_a = 0\n",
    "        i_loss_b = 0\n",
    "        z_s = np.where(gamma[i] == np.amax(gamma[i]),1,0)\n",
    "        for c in range(C):\n",
    "            # create multivariate normal with mu and sigma for current cluster\n",
    "            c_dist = mult_norm(mu[c],sigma[c])\n",
    "            #Correct:\n",
    "            i_loss_a += gamma[i,c]*(np.log(pi[c])+ np.log(np.amax([c_dist.pdf(X[i]), 1e-320])))\n",
    "            i_loss_b += gamma[i,c]*np.log(np.amax([gamma[i,c], 1e-320]))\n",
    "        loss += i_loss_a - i_loss_b\n",
    "    return loss"
   ]
  },
  {
   "cell_type": "markdown",
   "metadata": {},
   "source": [
    "### Training Loop"
   ]
  },
  {
   "cell_type": "markdown",
   "metadata": {},
   "source": [
    "- start at random values of $\\pi$, $\\mu$ and $\\Sigma$\n",
    "- train until $\\mathcal{L}$ stops changing  \n",
    "- EM algorithm sometimes stops at local optima. Restart algorithm multiple times from different starting positions to avoid issue. \n",
    "- Training trial should stop either when maximum number of iterations is reached or when relative improvement is smaller than tolerance."
   ]
  },
  {
   "cell_type": "code",
   "execution_count": 12,
   "metadata": {
    "collapsed": false
   },
   "outputs": [],
   "source": [
    "def train_EM(X, C, rtol=1e-3, max_iter=50, restarts=10):\n",
    "    '''\n",
    "    Starts with random initialization *restarts* times\n",
    "    Runs optimization until saturation with *rtol* reached\n",
    "    or *max_iter* iterations.\n",
    "    \n",
    "    X: (N, d), data points\n",
    "    C: int, number of clusters\n",
    "    '''\n",
    "    N = X.shape[0] # number of objects\n",
    "    d = X.shape[1] # dimension of each object\n",
    "    best_loss = -1e6\n",
    "    best_pi = None\n",
    "    best_mu = None\n",
    "    best_sigma = None\n",
    "    tot_loss = None\n",
    "\n",
    "    for _ in range(restarts):\n",
    "        try:\n",
    "            loss_iter = []\n",
    "            list_pi = np.array([np.random.uniform() for _ in range(C)])\n",
    "            pi = list_pi/sum(list_pi)\n",
    "            mu = np.array([X[np.random.randint(0,N)] for _ in range(C)])\n",
    "            sigma=np.array([np.identity(2), np.identity(2), np.identity(2)])\n",
    "            \n",
    "            for i in range(max_iter):\n",
    "                #print('iter:', i)\n",
    "                gamma = E_step(X, pi, mu, sigma)\n",
    "                pi, mu, sigma = M_step(X, gamma)\n",
    "                #print(pi)\n",
    "                #print(mu)\n",
    "                #print(sigma)\n",
    "                loss = compute_vlb(X, pi, mu, sigma, gamma)\n",
    "                #print('loss:',loss)\n",
    "                loss_iter.append(loss)\n",
    "                if len(loss_iter) < 2 : continue\n",
    "                if np.abs((loss_iter[-1] - loss_iter[-2])/loss_iter[-2]) < rtol : break\n",
    "            \n",
    "            if loss_iter[-1]>= best_loss:\n",
    "                best_loss = loss_iter[-1]\n",
    "                best_pi = pi\n",
    "                best_mu = mu\n",
    "                best_sigma= sigma\n",
    "                tot_loss = loss_iter\n",
    "        \n",
    "        except np.linalg.LinAlgError:\n",
    "            print(\"Singular matrix: components collapsed\")\n",
    "            pass\n",
    "\n",
    "    return best_loss, best_pi, best_mu, best_sigma, tot_loss"
   ]
  },
  {
   "cell_type": "code",
   "execution_count": 13,
   "metadata": {
    "collapsed": false
   },
   "outputs": [],
   "source": [
    "best_loss, best_pi, best_mu, best_sigma, tot_loss = train_EM(X1, 3)"
   ]
  },
  {
   "cell_type": "code",
   "execution_count": 14,
   "metadata": {
    "collapsed": false
   },
   "outputs": [
    {
     "data": {
      "text/plain": [
       "[-310.43707495175579,\n",
       " -301.65680894177063,\n",
       " -296.39492534870533,\n",
       " -292.92297754113014,\n",
       " -291.22189812375171,\n",
       " -290.39205564801551,\n",
       " -289.89438028967021,\n",
       " -289.54616743414329,\n",
       " -289.27934164561879]"
      ]
     },
     "execution_count": 14,
     "metadata": {},
     "output_type": "execute_result"
    }
   ],
   "source": [
    "tot_loss"
   ]
  },
  {
   "cell_type": "markdown",
   "metadata": {},
   "source": [
    "# Check result - Plot"
   ]
  },
  {
   "cell_type": "markdown",
   "metadata": {},
   "source": [
    "Assign a cluster label as the most probable cluster index, which is $\\gamma$ computed on last E-step iteration."
   ]
  },
  {
   "cell_type": "code",
   "execution_count": 15,
   "metadata": {
    "collapsed": true
   },
   "outputs": [],
   "source": [
    "gamma = E_step(X1, best_pi, best_mu, best_sigma)\n",
    "labels = gamma.argmax(1)"
   ]
  },
  {
   "cell_type": "code",
   "execution_count": 16,
   "metadata": {
    "collapsed": false
   },
   "outputs": [
    {
     "data": {
      "image/png": "[encoded data removed]",
      "text/plain": [
       "<matplotlib.figure.Figure at 0x1a0e7226d8>"
      ]
     },
     "metadata": {},
     "output_type": "display_data"
    }
   ],
   "source": [
    "plt.figure(figsize=(12, 12))\n",
    "#plt.subplots_adjust(bottom=.05, top=.9, left=.05, right=.95)\n",
    "\n",
    "plt.subplot(321)\n",
    "plt.title(\"Predicted Labels\", fontsize='medium')\n",
    "plt.scatter(X1[:, 0], X1[:, 1], c=labels, s=30)\n",
    "plt.axis('equal')\n",
    "\n",
    "plt.subplot(322)\n",
    "plt.title(\"Real Labels\", fontsize='medium')\n",
    "plt.scatter(X1[:, 0], X1[:, 1], c=Y1, s=30)\n",
    "plt.axis('equal')\n",
    "plt.show()"
   ]
  },
  {
   "cell_type": "code",
   "execution_count": null,
   "metadata": {
    "collapsed": true
   },
   "outputs": [],
   "source": []
  }
 ],
 "metadata": {
  "kernelspec": {
   "display_name": "Python 3",
   "language": "python",
   "name": "python3"
  },
  "language_info": {
   "codemirror_mode": {
    "name": "ipython",
    "version": 3
   },
   "file_extension": ".py",
   "mimetype": "text/x-python",
   "name": "python",
   "nbconvert_exporter": "python",
   "pygments_lexer": "ipython3",
   "version": "3.6.0"
  },
  "latex_envs": {
   "bibliofile": "biblio.bib",
   "cite_by": "apalike",
   "current_citInitial": 1,
   "eqLabelWithNumbers": true,
   "eqNumInitial": 0
  }
 },
 "nbformat": 4,
 "nbformat_minor": 2
}
